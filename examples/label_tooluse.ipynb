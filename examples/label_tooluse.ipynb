{
 "metadata": {
  "language_info": {
   "codemirror_mode": {
    "name": "ipython",
    "version": 3
   },
   "file_extension": ".py",
   "mimetype": "text/x-python",
   "name": "python",
   "nbconvert_exporter": "python",
   "pygments_lexer": "ipython3",
   "version": "3.6.10"
  },
  "orig_nbformat": 4,
  "kernelspec": {
   "name": "python3",
   "display_name": "Python 3.6.10 64-bit ('py36': conda)"
  },
  "interpreter": {
   "hash": "97ef7fecd4416c126eec23f9c8377ec2403c82f6827865e0087a4a97d072b1a0"
  }
 },
 "nbformat": 4,
 "nbformat_minor": 2,
 "cells": [
  {
   "cell_type": "code",
   "execution_count": 1,
   "metadata": {},
   "outputs": [],
   "source": [
    "import matplotlib.pyplot as plt\n",
    "import numpy as np\n",
    "import os\n",
    "from rlkit.data_management.load_buffer_real import *\n",
    "import pickle\n",
    "from railrl.data_management.obs_dict_replay_buffer import ObsDictReplayBuffer"
   ]
  },
  {
   "cell_type": "code",
   "execution_count": 2,
   "metadata": {},
   "outputs": [
    {
     "output_type": "stream",
     "name": "stdout",
     "text": [
      "loading\n",
      "done loading\n",
      "('observation',)\n"
     ]
    }
   ],
   "source": [
    "path = '/nfs/kun1/users/stephentian/on_policy_longer_1_26_buffers/move_tool_obj_together_fixed_6_2_train.pkl'\n",
    "\n",
    "print('loading')\n",
    "replay_buffer = pickle.load(open(path,'rb'))\n",
    "print('done loading')\n",
    "\n",
    "replay_buffer_new = ObsDictReplayBuffer(replay_buffer.max_size, replay_buffer.env, dummy=True)\n",
    "replay_buffer_new.load_from(replay_buffer)\n",
    "\n",
    "replay_buffer = replay_buffer_new\n",
    "\n",
    "replay_buffer.color_jitter=True\n",
    "replay_buffer.warp_img=True"
   ]
  },
  {
   "cell_type": "code",
   "execution_count": 3,
   "metadata": {},
   "outputs": [],
   "source": [
    "def process_image(img):\n",
    "    image_dataset = torch.from_numpy(img.reshape(3,64,64)).float()\n",
    "    if type(image_dataset) == torch.Tensor:\n",
    "        from torchvision import transforms\n",
    "        im_new = transforms.ToPILImage()(image_dataset.detach().cpu())\n",
    "    else:\n",
    "        im_new = image_dataset\n",
    "    return im_new\n",
    "\n",
    "data = replay_buffer._obs['image']\n",
    "rew = replay_buffer._rewards"
   ]
  },
  {
   "cell_type": "code",
   "execution_count": 5,
   "metadata": {},
   "outputs": [
    {
     "output_type": "execute_result",
     "data": {
      "text/plain": [
       "(20483, 12288)"
      ]
     },
     "metadata": {},
     "execution_count": 5
    }
   ],
   "source": [
    "data.shape"
   ]
  },
  {
   "cell_type": "code",
   "execution_count": null,
   "metadata": {},
   "outputs": [],
   "source": [
    "num_traj = 100\n",
    "timesteps_per_traj = 34\n",
    "for i in range(num_traj):\n",
    "    print('traj', i)\n",
    "    imgs = [data[i*num_traj + j] for j in range(timesteps_per_traj)] \n",
    "    imgs = [process_image(x) for x in imgs]\n",
    "\n",
    "    for j in range(timesteps_per_traj):\n",
    "        plt.imshow(imgs[j])\n",
    "    "
   ]
  },
  {
   "cell_type": "code",
   "execution_count": null,
   "metadata": {},
   "outputs": [],
   "source": []
  }
 ]
}