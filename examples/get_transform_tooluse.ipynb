{
 "metadata": {
  "language_info": {
   "codemirror_mode": {
    "name": "ipython",
    "version": 3
   },
   "file_extension": ".py",
   "mimetype": "text/x-python",
   "name": "python",
   "nbconvert_exporter": "python",
   "pygments_lexer": "ipython3",
   "version": "3.7.0"
  },
  "orig_nbformat": 4,
  "kernelspec": {
   "name": "python370jvsc74a57bd0b901ab8c2bf5ea16db2ed372167522fccb774c58af712ab2ef3f15be519e1906",
   "display_name": "Python 3.7.0 64-bit ('py35': conda)"
  },
  "interpreter": {
   "hash": "97ef7fecd4416c126eec23f9c8377ec2403c82f6827865e0087a4a97d072b1a0"
  },
  "metadata": {
   "interpreter": {
    "hash": "b901ab8c2bf5ea16db2ed372167522fccb774c58af712ab2ef3f15be519e1906"
   }
  }
 },
 "nbformat": 4,
 "nbformat_minor": 2,
 "cells": [
  {
   "cell_type": "code",
   "execution_count": 22,
   "metadata": {},
   "outputs": [],
   "source": [
    "import pickle\n",
    "import matplotlib\n",
    "matplotlib.use('TkAgg')\n",
    "\n",
    "path = '/nfs/kun1/users/stephentian/on_policy_longer_1_26_buffers/move_tool_obj_together_fixed_6_2_train.pkl'\n",
    "data = pickle.load(open(path, 'rb'))"
   ]
  },
  {
   "cell_type": "code",
   "execution_count": 23,
   "metadata": {},
   "outputs": [
    {
     "output_type": "execute_result",
     "data": {
      "text/plain": [
       "(20483, 12288)"
      ]
     },
     "metadata": {},
     "execution_count": 23
    }
   ],
   "source": [
    "data._obs['image'].shape"
   ]
  },
  {
   "cell_type": "code",
   "execution_count": 24,
   "metadata": {},
   "outputs": [
    {
     "output_type": "execute_result",
     "data": {
      "text/plain": [
       "[None]"
      ]
     },
     "metadata": {},
     "execution_count": 24
    }
   ],
   "source": [
    "import time\n",
    "\n",
    "import numpy as np\n",
    "import matplotlib.pyplot as plt\n",
    "import torch\n",
    "from torchvision import transforms\n",
    "\n",
    "import torchvision.transforms.functional as F\n",
    "from PIL import Image\n",
    "\n",
    "def tellme(s):\n",
    "    print(s)\n",
    "    plt.title(s, fontsize=16)\n",
    "    plt.draw()\n",
    "\n",
    "plt.clf()\n",
    "plt.setp(plt.gca(), autoscale_on=True)"
   ]
  },
  {
   "cell_type": "code",
   "execution_count": 25,
   "metadata": {},
   "outputs": [],
   "source": [
    "def plot(obs_img):\n",
    "    if type(obs_img) == torch.Tensor:\n",
    "        from torchvision import transforms\n",
    "        im_new = transforms.ToPILImage()(obs_img.cpu())\n",
    "    else:\n",
    "        im_new = obs_img\n",
    "    plt.imshow(im_new)\n",
    "    return im_new"
   ]
  },
  {
   "cell_type": "code",
   "execution_count": 26,
   "metadata": {},
   "outputs": [
    {
     "output_type": "stream",
     "name": "stdout",
     "text": [
      "(12288,)\nDataset Image\n"
     ]
    }
   ],
   "source": [
    "from matplotlib import pyplot as plt\n",
    "import numpy as np\n",
    "import torch\n",
    "print(data._obs['image'][0].shape)\n",
    "image_dataset = torch.from_numpy(data._obs['image'][0].reshape(3,64,64))\n",
    "tellme('Dataset Image')\n",
    "im_new= plot(image_dataset)\n",
    "im_new.save('dataset_img.jpg')\n",
    "# plt.show()"
   ]
  },
  {
   "cell_type": "code",
   "execution_count": 27,
   "metadata": {},
   "outputs": [
    {
     "output_type": "stream",
     "name": "stdout",
     "text": [
      "Current Image\n"
     ]
    },
    {
     "output_type": "execute_result",
     "data": {
      "text/plain": [
       "<PIL.Image.Image image mode=RGB size=64x64 at 0x7F95A5895668>"
      ],
      "image/png": "[encoded data removed]"
     },
     "metadata": {},
     "execution_count": 27
    }
   ],
   "source": [
    "from PIL import Image\n",
    "from torch import tensor\n",
    "image_curr = Image.open('/home/stephen/ros_ws/src/private_visual_foresight/experiments/sawyer/offline_rl_tool/galar/train/collection_started_Jun_10_2021_20:51:32/traj0/images0/im_1.jpg')\n",
    "trans = transforms.ToPILImage()\n",
    "trans1 = transforms.ToTensor()\n",
    "image_curr = trans1(image_curr.convert(\"RGB\"))\n",
    "tellme('Current Image')\n",
    "plot(image_curr)\n",
    "# plt.show()"
   ]
  },
  {
   "cell_type": "code",
   "execution_count": 28,
   "metadata": {},
   "outputs": [
    {
     "output_type": "stream",
     "name": "stdout",
     "text": [
      "Dataset Image: Select 4 corners with mouse\n",
      "/home/stephen/anaconda2/envs/py35/lib/python3.7/site-packages/matplotlib/backend_bases.py:2453: MatplotlibDeprecationWarning: Using default event loop until function specific to this GUI is implemented\n",
      "  warnings.warn(str, mplDeprecation)\n",
      "Happy? Key click for yes, mouse click for no\n"
     ]
    }
   ],
   "source": [
    "while True:\n",
    "    pts = []\n",
    "    while len(pts) < 4:\n",
    "        plot(image_dataset)\n",
    "        tellme('Dataset Image: Select 4 corners with mouse')\n",
    "        pts = np.asarray(plt.ginput(4, timeout=-1))\n",
    "        if len(pts) < 4:\n",
    "            tellme('Too few points, starting over')\n",
    "            time.sleep(1)  # Wait a second\n",
    " \n",
    "    ph = plt.fill(pts[:, 0], pts[:, 1], 'r', lw=2)\n",
    "\n",
    "    tellme('Happy? Key click for yes, mouse click for no')\n",
    "\n",
    "    if plt.waitforbuttonpress():\n",
    "        for p in ph:\n",
    "            p.remove()\n",
    "        break\n",
    "\n",
    "    for p in ph:\n",
    "        p.remove()\n",
    "\n",
    "src = pts"
   ]
  },
  {
   "cell_type": "code",
   "execution_count": 29,
   "metadata": {},
   "outputs": [
    {
     "output_type": "execute_result",
     "data": {
      "text/plain": [
       "array([[18.33982684,  1.64718615],\n",
       "       [59.37878788,  7.18831169],\n",
       "       [57.12770563, 46.14935065],\n",
       "       [ 7.43073593, 44.41774892]])"
      ]
     },
     "metadata": {},
     "execution_count": 29
    }
   ],
   "source": [
    "src"
   ]
  },
  {
   "cell_type": "code",
   "execution_count": 30,
   "metadata": {},
   "outputs": [
    {
     "output_type": "stream",
     "name": "stdout",
     "text": [
      "Current Image: Select 4 corners with mouse\n",
      "Happy? Key click for yes, mouse click for no\n"
     ]
    }
   ],
   "source": [
    "while True:\n",
    "    pts = []\n",
    "    while len(pts) < 4:\n",
    "        plot(image_curr)\n",
    "        tellme('Current Image: Select 4 corners with mouse')\n",
    "        pts = np.asarray(plt.ginput(4, timeout=-1))\n",
    "        if len(pts) < 4:\n",
    "            tellme('Too few points, starting over')\n",
    "            time.sleep(1)  # Wait a second\n",
    " \n",
    "    ph = plt.fill(pts[:, 0], pts[:, 1], 'r', lw=2)\n",
    "\n",
    "    tellme('Happy? Key click for yes, mouse click for no')\n",
    "\n",
    "    if plt.waitforbuttonpress():\n",
    "        for p in ph:\n",
    "            p.remove()\n",
    "        break\n",
    "\n",
    "    for p in ph:\n",
    "        p.remove()\n",
    "\n",
    "dest = pts"
   ]
  },
  {
   "cell_type": "code",
   "execution_count": 31,
   "metadata": {},
   "outputs": [
    {
     "output_type": "execute_result",
     "data": {
      "text/plain": [
       "array([[16.60822511,  2.85930736],\n",
       "       [59.20562771, 10.47835498],\n",
       "       [58.33982684, 50.9978355 ],\n",
       "       [ 4.48701299, 48.91991342]])"
      ]
     },
     "metadata": {},
     "execution_count": 31
    }
   ],
   "source": [
    "dest"
   ]
  },
  {
   "cell_type": "code",
   "execution_count": 32,
   "metadata": {},
   "outputs": [],
   "source": [
    "import cv2\n",
    "matrix_dataset2curr = cv2.getPerspectiveTransform(src.astype(np.float32),dest.astype(np.float32)) #Try this SWAP\n",
    "matrix_curr2dataset = cv2.getPerspectiveTransform(dest.astype(np.float32),src.astype(np.float32)) #Try this SWAP"
   ]
  },
  {
   "cell_type": "code",
   "execution_count": 33,
   "metadata": {},
   "outputs": [
    {
     "output_type": "execute_result",
     "data": {
      "text/plain": [
       "(array([[ 1.11372095e+00, -9.20702297e-03, -3.50371122e+00],\n",
       "        [ 5.59670203e-02,  1.05841083e+00,  1.40846297e-01],\n",
       "        [ 1.05113272e-03, -7.97577109e-04,  1.00000000e+00]]),\n",
       " array([[ 8.97593907e-01,  1.01768922e-02,  3.14347646e+00],\n",
       "        [-4.73327100e-02,  9.47522825e-01, -2.99295214e-01],\n",
       "        [-9.81241796e-04,  7.45025269e-04,  1.00000000e+00]]))"
      ]
     },
     "metadata": {},
     "execution_count": 33
    }
   ],
   "source": [
    "matrix_dataset2curr, matrix_curr2dataset"
   ]
  },
  {
   "cell_type": "code",
   "execution_count": 34,
   "metadata": {},
   "outputs": [],
   "source": [
    "np.save('mat_dataset2curr',matrix_dataset2curr)\n",
    "np.save('mat_curr2dataset',matrix_curr2dataset)"
   ]
  },
  {
   "cell_type": "code",
   "execution_count": null,
   "metadata": {},
   "outputs": [],
   "source": [
    "#use with image_check.ipynb"
   ]
  }
 ]
}